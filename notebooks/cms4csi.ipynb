{
 "cells": [
  {
   "cell_type": "code",
   "execution_count": 1,
   "id": "97a06f9b-140e-4ed5-897a-6276402c9351",
   "metadata": {},
   "outputs": [
    {
     "name": "stdout",
     "output_type": "stream",
     "text": [
      "Defaulting to user installation because normal site-packages is not writeable\n",
      "Collecting Flask-Bauto==0.0.6\n",
      "  Downloading flask_bauto-0.0.6-py3-none-any.whl (5.6 kB)\n",
      "Requirement already satisfied: Flask-SQLAlchemy in /home/christophe/.local/lib/python3.10/site-packages (from Flask-Bauto==0.0.6) (3.1.1)\n",
      "Requirement already satisfied: Flask-FEFset in /home/christophe/.local/lib/python3.10/site-packages (from Flask-Bauto==0.0.6) (0.0.1)\n",
      "Requirement already satisfied: Flask-UXFab in /home/christophe/.local/lib/python3.10/site-packages (from Flask-Bauto==0.0.6) (0.0.1)\n",
      "Requirement already satisfied: Flask-Bootstrap in /home/christophe/.local/lib/python3.10/site-packages (from Flask-FEFset->Flask-Bauto==0.0.6) (3.3.7.1)\n",
      "Requirement already satisfied: Flask==3.0.3 in /home/christophe/.local/lib/python3.10/site-packages (from Flask-FEFset->Flask-Bauto==0.0.6) (3.0.3)\n",
      "Requirement already satisfied: Werkzeug>=3.0.0 in /home/christophe/.local/lib/python3.10/site-packages (from Flask==3.0.3->Flask-FEFset->Flask-Bauto==0.0.6) (3.1.3)\n",
      "Requirement already satisfied: blinker>=1.6.2 in /home/christophe/.local/lib/python3.10/site-packages (from Flask==3.0.3->Flask-FEFset->Flask-Bauto==0.0.6) (1.9.0)\n",
      "Requirement already satisfied: Jinja2>=3.1.2 in /home/christophe/.local/lib/python3.10/site-packages (from Flask==3.0.3->Flask-FEFset->Flask-Bauto==0.0.6) (3.1.5)\n",
      "Requirement already satisfied: itsdangerous>=2.1.2 in /home/christophe/.local/lib/python3.10/site-packages (from Flask==3.0.3->Flask-FEFset->Flask-Bauto==0.0.6) (2.2.0)\n",
      "Requirement already satisfied: click>=8.1.3 in /home/christophe/.local/lib/python3.10/site-packages (from Flask==3.0.3->Flask-FEFset->Flask-Bauto==0.0.6) (8.2.0)\n",
      "Requirement already satisfied: sqlalchemy>=2.0.16 in /home/christophe/.local/lib/python3.10/site-packages (from Flask-SQLAlchemy->Flask-Bauto==0.0.6) (2.0.40)\n",
      "Requirement already satisfied: Flask-WTF in /home/christophe/.local/lib/python3.10/site-packages (from Flask-UXFab->Flask-Bauto==0.0.6) (1.2.2)\n",
      "Requirement already satisfied: greenlet>=1 in /home/christophe/.local/lib/python3.10/site-packages (from sqlalchemy>=2.0.16->Flask-SQLAlchemy->Flask-Bauto==0.0.6) (3.2.2)\n",
      "Requirement already satisfied: typing-extensions>=4.6.0 in /home/christophe/.local/lib/python3.10/site-packages (from sqlalchemy>=2.0.16->Flask-SQLAlchemy->Flask-Bauto==0.0.6) (4.12.2)\n",
      "Requirement already satisfied: visitor in /home/christophe/.local/lib/python3.10/site-packages (from Flask-Bootstrap->Flask-FEFset->Flask-Bauto==0.0.6) (0.1.3)\n",
      "Requirement already satisfied: dominate in /home/christophe/.local/lib/python3.10/site-packages (from Flask-Bootstrap->Flask-FEFset->Flask-Bauto==0.0.6) (2.9.1)\n",
      "Requirement already satisfied: wtforms in /home/christophe/.local/lib/python3.10/site-packages (from Flask-WTF->Flask-UXFab->Flask-Bauto==0.0.6) (3.2.1)\n",
      "Requirement already satisfied: MarkupSafe>=2.0 in /home/christophe/.local/lib/python3.10/site-packages (from Jinja2>=3.1.2->Flask==3.0.3->Flask-FEFset->Flask-Bauto==0.0.6) (3.0.2)\n",
      "Installing collected packages: Flask-Bauto\n",
      "  Attempting uninstall: Flask-Bauto\n",
      "    Found existing installation: Flask-Bauto 0.0.5\n",
      "    Uninstalling Flask-Bauto-0.0.5:\n",
      "      Successfully uninstalled Flask-Bauto-0.0.5\n",
      "Successfully installed Flask-Bauto-0.0.6\n",
      "Note: you may need to restart the kernel to use updated packages.\n"
     ]
    }
   ],
   "source": [
    "%pip install Flask-Bauto==0.0.6"
   ]
  },
  {
   "cell_type": "code",
   "execution_count": 2,
   "id": "d226aebd-042a-45a3-9e5e-2ab5350ce2eb",
   "metadata": {},
   "outputs": [],
   "source": [
    "from flask_bauto import AutoBlueprint, BullStack, dataclass\n",
    "\n",
    "#Crop source investigations\n",
    "class CSI(AutoBlueprint):\n",
    "    @dataclass\n",
    "    class Genus:\n",
    "        name: str\n",
    "        family: str\n",
    "        #species_rel: relationship = relationship('Species', backref=\"genus\")\n",
    "\n",
    "    @dataclass \n",
    "    class Species:\n",
    "        genus_id: int\n",
    "        name: str\n",
    "\n",
    "    @dataclass\n",
    "    class Project:\n",
    "        name: str\n",
    "        description: str = None\n",
    "        #samples: relationship\n",
    "\n",
    "    @dataclass\n",
    "    class Provenance:\n",
    "        name: str\n",
    "        polygon: str = None\n",
    "        description: str = None\n",
    "        \n",
    "    @dataclass\n",
    "    class Sample:\n",
    "        name: str\n",
    "        species_id: int\n",
    "        provenance_id: int= None\n",
    "    \n",
    "    def show_species(self) -> str:\n",
    "        return 'test'\n",
    "\n",
    "bs = BullStack(__name__, [CropSourceInvestigations(enable_crud=True)])"
   ]
  },
  {
   "cell_type": "code",
   "execution_count": null,
   "id": "48f96ee8-858e-42d3-8e0d-f828a049edb3",
   "metadata": {},
   "outputs": [
    {
     "name": "stdout",
     "output_type": "stream",
     "text": [
      " * Serving Flask app '__main__'\n",
      " * Debug mode: off\n"
     ]
    },
    {
     "name": "stderr",
     "output_type": "stream",
     "text": [
      "\u001b[31m\u001b[1mWARNING: This is a development server. Do not use it in a production deployment. Use a production WSGI server instead.\u001b[0m\n",
      " * Running on http://127.0.0.1:5001\n",
      "\u001b[33mPress CTRL+C to quit\u001b[0m\n",
      "127.0.0.1 - - [14/May/2025 11:45:47] \"GET /cropsourceinvestigations/genus/create HTTP/1.1\" 200 -\n",
      "127.0.0.1 - - [14/May/2025 11:45:48] \"\u001b[33mGET /static/css/base.css HTTP/1.1\u001b[0m\" 404 -\n",
      "127.0.0.1 - - [14/May/2025 11:45:52] \"\u001b[32mPOST /cropsourceinvestigations/genus/create HTTP/1.1\u001b[0m\" 302 -\n",
      "127.0.0.1 - - [14/May/2025 11:45:52] \"GET /cropsourceinvestigations/genus/read/1 HTTP/1.1\" 200 -\n",
      "127.0.0.1 - - [14/May/2025 11:45:52] \"\u001b[33mGET /static/css/base.css HTTP/1.1\u001b[0m\" 404 -\n",
      "127.0.0.1 - - [14/May/2025 11:45:55] \"GET /cropsourceinvestigations/species/create HTTP/1.1\" 200 -\n",
      "127.0.0.1 - - [14/May/2025 11:45:55] \"\u001b[33mGET /static/css/base.css HTTP/1.1\u001b[0m\" 404 -\n",
      "127.0.0.1 - - [14/May/2025 11:45:58] \"\u001b[32mPOST /cropsourceinvestigations/species/create HTTP/1.1\u001b[0m\" 302 -\n",
      "127.0.0.1 - - [14/May/2025 11:45:58] \"GET /cropsourceinvestigations/species/read/1 HTTP/1.1\" 200 -\n",
      "127.0.0.1 - - [14/May/2025 11:45:58] \"\u001b[33mGET /static/css/base.css HTTP/1.1\u001b[0m\" 404 -\n",
      "127.0.0.1 - - [14/May/2025 11:46:11] \"GET /cropsourceinvestigations/provenance/create HTTP/1.1\" 200 -\n",
      "127.0.0.1 - - [14/May/2025 11:46:11] \"\u001b[33mGET /static/css/base.css HTTP/1.1\u001b[0m\" 404 -\n",
      "127.0.0.1 - - [14/May/2025 11:46:20] \"\u001b[32mPOST /cropsourceinvestigations/provenance/create HTTP/1.1\u001b[0m\" 302 -\n",
      "127.0.0.1 - - [14/May/2025 11:46:20] \"GET /cropsourceinvestigations/provenance/read/1 HTTP/1.1\" 200 -\n",
      "127.0.0.1 - - [14/May/2025 11:46:21] \"\u001b[33mGET /static/css/base.css HTTP/1.1\u001b[0m\" 404 -\n",
      "127.0.0.1 - - [14/May/2025 11:46:25] \"GET /cropsourceinvestigations/sample/create HTTP/1.1\" 200 -\n",
      "127.0.0.1 - - [14/May/2025 11:46:26] \"\u001b[33mGET /static/css/base.css HTTP/1.1\u001b[0m\" 404 -\n",
      "127.0.0.1 - - [14/May/2025 11:47:30] \"\u001b[32mPOST /cropsourceinvestigations/sample/create HTTP/1.1\u001b[0m\" 302 -\n",
      "127.0.0.1 - - [14/May/2025 11:47:30] \"GET /cropsourceinvestigations/sample/read/1 HTTP/1.1\" 200 -\n",
      "127.0.0.1 - - [14/May/2025 11:47:30] \"\u001b[33mGET /static/css/base.css HTTP/1.1\u001b[0m\" 404 -\n",
      "127.0.0.1 - - [14/May/2025 11:47:33] \"GET /cropsourceinvestigations/sample/list HTTP/1.1\" 200 -\n",
      "127.0.0.1 - - [14/May/2025 11:47:33] \"\u001b[33mGET /static/css/base.css HTTP/1.1\u001b[0m\" 404 -\n"
     ]
    }
   ],
   "source": [
    "bs.run(port=5001)"
   ]
  },
  {
   "cell_type": "code",
   "execution_count": null,
   "id": "9707bac3-2890-40a2-89c7-c31bb2024d76",
   "metadata": {},
   "outputs": [],
   "source": []
  }
 ],
 "metadata": {
  "kernelspec": {
   "display_name": "Python 3 (ipykernel)",
   "language": "python",
   "name": "python3"
  },
  "language_info": {
   "codemirror_mode": {
    "name": "ipython",
    "version": 3
   },
   "file_extension": ".py",
   "mimetype": "text/x-python",
   "name": "python",
   "nbconvert_exporter": "python",
   "pygments_lexer": "ipython3",
   "version": "3.10.12"
  }
 },
 "nbformat": 4,
 "nbformat_minor": 5
}
