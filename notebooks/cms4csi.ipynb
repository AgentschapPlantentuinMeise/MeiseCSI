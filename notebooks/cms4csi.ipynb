{
 "cells": [
  {
   "cell_type": "code",
   "execution_count": 1,
   "id": "97a06f9b-140e-4ed5-897a-6276402c9351",
   "metadata": {},
   "outputs": [
    {
     "name": "stdout",
     "output_type": "stream",
     "text": [
      "Defaulting to user installation because normal site-packages is not writeable\n",
      "Requirement already satisfied: Flask-Bauto==0.0.13 in /home/christophe/.local/lib/python3.10/site-packages (0.0.13)\n",
      "Requirement already satisfied: Bull-Stack==0.0.2 in /home/christophe/.local/lib/python3.10/site-packages (0.0.2)\n",
      "Requirement already satisfied: Flask-SQLAlchemy in /home/christophe/.local/lib/python3.10/site-packages (from Flask-Bauto==0.0.13) (3.1.1)\n",
      "Requirement already satisfied: Flask-FEFset in /home/christophe/.local/lib/python3.10/site-packages (from Flask-Bauto==0.0.13) (0.0.1)\n",
      "Requirement already satisfied: Flask-IAM in /home/christophe/.local/lib/python3.10/site-packages (from Flask-Bauto==0.0.13) (0.0.4)\n",
      "Requirement already satisfied: Flask-UXFab in /home/christophe/.local/lib/python3.10/site-packages (from Flask-Bauto==0.0.13) (0.0.1)\n",
      "Requirement already satisfied: Flask==3.0.3 in /home/christophe/.local/lib/python3.10/site-packages (from Flask-FEFset->Flask-Bauto==0.0.13) (3.0.3)\n",
      "Requirement already satisfied: Flask-Bootstrap in /home/christophe/.local/lib/python3.10/site-packages (from Flask-FEFset->Flask-Bauto==0.0.13) (3.3.7.1)\n",
      "Requirement already satisfied: Werkzeug>=3.0.0 in /home/christophe/.local/lib/python3.10/site-packages (from Flask==3.0.3->Flask-FEFset->Flask-Bauto==0.0.13) (3.1.3)\n",
      "Requirement already satisfied: blinker>=1.6.2 in /home/christophe/.local/lib/python3.10/site-packages (from Flask==3.0.3->Flask-FEFset->Flask-Bauto==0.0.13) (1.9.0)\n",
      "Requirement already satisfied: itsdangerous>=2.1.2 in /home/christophe/.local/lib/python3.10/site-packages (from Flask==3.0.3->Flask-FEFset->Flask-Bauto==0.0.13) (2.2.0)\n",
      "Requirement already satisfied: click>=8.1.3 in /home/christophe/.local/lib/python3.10/site-packages (from Flask==3.0.3->Flask-FEFset->Flask-Bauto==0.0.13) (8.2.0)\n",
      "Requirement already satisfied: Jinja2>=3.1.2 in /home/christophe/.local/lib/python3.10/site-packages (from Flask==3.0.3->Flask-FEFset->Flask-Bauto==0.0.13) (3.1.5)\n",
      "Requirement already satisfied: Flask-Login==0.6.3 in /home/christophe/.local/lib/python3.10/site-packages (from Flask-IAM->Flask-Bauto==0.0.13) (0.6.3)\n",
      "Requirement already satisfied: email_validator==2.2.0 in /home/christophe/.local/lib/python3.10/site-packages (from Flask-IAM->Flask-Bauto==0.0.13) (2.2.0)\n",
      "Requirement already satisfied: phonenumbers==8.13.42 in /home/christophe/.local/lib/python3.10/site-packages (from Flask-IAM->Flask-Bauto==0.0.13) (8.13.42)\n",
      "Requirement already satisfied: idna>=2.0.0 in /home/christophe/.local/lib/python3.10/site-packages (from email_validator==2.2.0->Flask-IAM->Flask-Bauto==0.0.13) (3.4)\n",
      "Requirement already satisfied: dnspython>=2.0.0 in /home/christophe/.local/lib/python3.10/site-packages (from email_validator==2.2.0->Flask-IAM->Flask-Bauto==0.0.13) (2.7.0)\n",
      "Requirement already satisfied: Flask-WTF in /home/christophe/.local/lib/python3.10/site-packages (from Flask-UXFab->Flask-Bauto==0.0.13) (1.2.2)\n",
      "Requirement already satisfied: sqlalchemy>=2.0.16 in /home/christophe/.local/lib/python3.10/site-packages (from Flask-SQLAlchemy->Flask-Bauto==0.0.13) (2.0.40)\n",
      "Requirement already satisfied: greenlet>=1 in /home/christophe/.local/lib/python3.10/site-packages (from sqlalchemy>=2.0.16->Flask-SQLAlchemy->Flask-Bauto==0.0.13) (3.2.2)\n",
      "Requirement already satisfied: typing-extensions>=4.6.0 in /home/christophe/.local/lib/python3.10/site-packages (from sqlalchemy>=2.0.16->Flask-SQLAlchemy->Flask-Bauto==0.0.13) (4.12.2)\n",
      "Requirement already satisfied: dominate in /home/christophe/.local/lib/python3.10/site-packages (from Flask-Bootstrap->Flask-FEFset->Flask-Bauto==0.0.13) (2.9.1)\n",
      "Requirement already satisfied: visitor in /home/christophe/.local/lib/python3.10/site-packages (from Flask-Bootstrap->Flask-FEFset->Flask-Bauto==0.0.13) (0.1.3)\n",
      "Requirement already satisfied: wtforms in /home/christophe/.local/lib/python3.10/site-packages (from Flask-WTF->Flask-UXFab->Flask-Bauto==0.0.13) (3.2.1)\n",
      "Requirement already satisfied: MarkupSafe>=2.0 in /home/christophe/.local/lib/python3.10/site-packages (from Jinja2>=3.1.2->Flask==3.0.3->Flask-FEFset->Flask-Bauto==0.0.13) (3.0.2)\n",
      "Note: you may need to restart the kernel to use updated packages.\n"
     ]
    }
   ],
   "source": [
    "%pip install Flask-Bauto==0.0.13 Bull-Stack==0.0.2"
   ]
  },
  {
   "cell_type": "code",
   "execution_count": 1,
   "id": "d226aebd-042a-45a3-9e5e-2ab5350ce2eb",
   "metadata": {},
   "outputs": [
    {
     "name": "stderr",
     "output_type": "stream",
     "text": [
      "Interactive defined blueprints might not have functional relationships\n",
      "Interactive defined blueprints might not have functional relationships\n",
      "Interactive defined blueprints might not have functional relationships\n",
      "Interactive defined blueprints might not have functional relationships\n"
     ]
    },
    {
     "data": {
      "text/plain": [
       "<Flask '__main__'>"
      ]
     },
     "execution_count": 1,
     "metadata": {},
     "output_type": "execute_result"
    }
   ],
   "source": [
    "from flask_bauto import AutoBlueprint, dataclass, relationship\n",
    "from bull_stack import BullStack\n",
    "\n",
    "#Crop source investigations\n",
    "class Taxonomy(AutoBlueprint):\n",
    "    @dataclass\n",
    "    class Genus:\n",
    "        name: str\n",
    "        family: str\n",
    "        species: relationship = None\n",
    "\n",
    "    @dataclass \n",
    "    class Species:\n",
    "        genus_id: int\n",
    "        name: str\n",
    "        gbif_id: int\n",
    "\n",
    "    @dataclass\n",
    "    class Crop:\n",
    "        species_id: int\n",
    "        name: str\n",
    "        description: str = None\n",
    "        \n",
    "class CSI(AutoBlueprint):\n",
    "    @dataclass\n",
    "    class Project:\n",
    "        name: str\n",
    "        description: str = None\n",
    "        sample: relationship = None\n",
    "        \n",
    "    @dataclass\n",
    "    class Provenance:\n",
    "        name: str\n",
    "        polygon: str = None\n",
    "        description: str = None\n",
    "        \n",
    "    @dataclass\n",
    "    class Sample:\n",
    "        name: str\n",
    "        project_id: int\n",
    "        species_id: int\n",
    "        provenance_id: int= None\n",
    "    \n",
    "    def show_species(self) -> str:\n",
    "        return 'test'\n",
    "\n",
    "bs = BullStack(\n",
    "    __name__,\n",
    "    [\n",
    "        Taxonomy(enable_crud=True, forensics=True),\n",
    "        CSI(enable_crud=True, url_prefix=False, forensics=True)\n",
    "    ]\n",
    ")\n",
    "bs.create_app()"
   ]
  },
  {
   "cell_type": "code",
   "execution_count": null,
   "id": "48f96ee8-858e-42d3-8e0d-f828a049edb3",
   "metadata": {},
   "outputs": [
    {
     "name": "stdout",
     "output_type": "stream",
     "text": [
      " * Serving Flask app '__main__'\n",
      " * Debug mode: off\n"
     ]
    },
    {
     "name": "stderr",
     "output_type": "stream",
     "text": [
      "\u001b[31m\u001b[1mWARNING: This is a development server. Do not use it in a production deployment. Use a production WSGI server instead.\u001b[0m\n",
      " * Running on http://127.0.0.1:5001\n",
      "\u001b[33mPress CTRL+C to quit\u001b[0m\n"
     ]
    }
   ],
   "source": [
    "bs.run(port=5001)"
   ]
  },
  {
   "cell_type": "code",
   "execution_count": null,
   "id": "c0db275d-d1e4-4f19-be6a-2098788fbed5",
   "metadata": {},
   "outputs": [],
   "source": []
  },
  {
   "cell_type": "code",
   "execution_count": null,
   "id": "985255f1-a145-4377-a31b-7c5c6c238394",
   "metadata": {},
   "outputs": [],
   "source": []
  }
 ],
 "metadata": {
  "kernelspec": {
   "display_name": "Python 3 (ipykernel)",
   "language": "python",
   "name": "python3"
  },
  "language_info": {
   "codemirror_mode": {
    "name": "ipython",
    "version": 3
   },
   "file_extension": ".py",
   "mimetype": "text/x-python",
   "name": "python",
   "nbconvert_exporter": "python",
   "pygments_lexer": "ipython3",
   "version": "3.10.12"
  }
 },
 "nbformat": 4,
 "nbformat_minor": 5
}
