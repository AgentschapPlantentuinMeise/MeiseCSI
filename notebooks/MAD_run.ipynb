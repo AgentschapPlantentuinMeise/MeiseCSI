{
 "cells": [
  {
   "cell_type": "markdown",
   "id": "1c7e4ff1-d55b-42ff-9ad0-78cc0a51e100",
   "metadata": {},
   "source": [
    "# Microwave acid digestion run analysis"
   ]
  },
  {
   "cell_type": "code",
   "execution_count": null,
   "id": "b24aecef-fd13-4699-a3ba-95c739685567",
   "metadata": {},
   "outputs": [],
   "source": [
    "import pandas as pd\n",
    "import matplotlib.pyplot as plt\n",
    "%matplotlib notebook #inline"
   ]
  },
  {
   "cell_type": "code",
   "execution_count": null,
   "id": "9cd1ba83-8044-4f01-817a-4755a51df424",
   "metadata": {},
   "outputs": [],
   "source": [
    "#! file -bi user/85000797 DSK0761_2.csv\n",
    "mad_results = pd.read_csv('data/85000797_DSK0761_2.csv', skiprows=51, encoding = \"utf-16le\", sep='\\t')"
   ]
  },
  {
   "cell_type": "code",
   "execution_count": null,
   "id": "551b6c78-c43c-4475-8144-d841fe32f7a3",
   "metadata": {},
   "outputs": [],
   "source": [
    "mad_results[[\"Time\",\"T Pos. 1\",\"T Pos. 4\",\"T Pos. 7\",\"T Pos. 10\"]].ffill().set_index(\"Time\").plot.line()"
   ]
  },
  {
   "cell_type": "code",
   "execution_count": null,
   "id": "e0324d08-fad6-42be-b267-c732b888b48b",
   "metadata": {},
   "outputs": [],
   "source": [
    "mad_results[[\"Time\",\"T Pos. 1\",\"T Pos. 4\",\"T Pos. 7\",\"T Pos. 10\"]].set_index(\"Time\").infer_objects(copy=False).interpolate(\"index\").plot.line()"
   ]
  }
 ],
 "metadata": {
  "kernelspec": {
   "display_name": "Python 3 (ipykernel)",
   "language": "python",
   "name": "python3"
  },
  "language_info": {
   "codemirror_mode": {
    "name": "ipython",
    "version": 3
   },
   "file_extension": ".py",
   "mimetype": "text/x-python",
   "name": "python",
   "nbconvert_exporter": "python",
   "pygments_lexer": "ipython3",
   "version": "3.10.12"
  }
 },
 "nbformat": 4,
 "nbformat_minor": 5
}
