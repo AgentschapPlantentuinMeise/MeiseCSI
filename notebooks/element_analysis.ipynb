{
 "cells": [
  {
   "cell_type": "code",
   "execution_count": null,
   "id": "c5b1f25d-452d-48ef-92f5-1e67e49692c5",
   "metadata": {},
   "outputs": [],
   "source": [
    "import pandas as pd"
   ]
  },
  {
   "cell_type": "code",
   "execution_count": null,
   "id": "c32cf5ff-05a7-4e6a-9f90-85b6b3e12bd5",
   "metadata": {},
   "outputs": [],
   "source": [
    "data = pd.read_csv(\"data/icpoes/coffee.csv\", skiprows=6)\n",
    "data"
   ]
  },
  {
   "cell_type": "code",
   "execution_count": null,
   "id": "fa7ee227-a640-4c09-b21a-ace5788c5218",
   "metadata": {},
   "outputs": [],
   "source": [
    "data.Concentration.value_counts()"
   ]
  },
  {
   "cell_type": "code",
   "execution_count": null,
   "id": "f9140285-dfa7-47e1-a853-c9c3316c265b",
   "metadata": {},
   "outputs": [],
   "source": [
    "data.iloc[0]"
   ]
  },
  {
   "cell_type": "code",
   "execution_count": null,
   "id": "5657d7c9-3fb9-4257-b1d3-6401b79f05ca",
   "metadata": {},
   "outputs": [],
   "source": [
    "data.Flags.value_counts()"
   ]
  },
  {
   "cell_type": "code",
   "execution_count": null,
   "id": "0a319be3-85e2-4155-ae9d-582b92aa0b03",
   "metadata": {},
   "outputs": [],
   "source": [
    "caldata = data[~data.Concentration.isin(('Uncal','####'))].copy()\n",
    "caldata.Concentration = caldata.Concentration.astype(float)"
   ]
  },
  {
   "cell_type": "code",
   "execution_count": null,
   "id": "e83c24fa-af54-4bdc-b755-0fba47a256d9",
   "metadata": {},
   "outputs": [],
   "source": [
    "caldata[caldata.Concentration > 0]"
   ]
  },
  {
   "cell_type": "code",
   "execution_count": null,
   "id": "198a3db1-95b8-4da6-9bab-be7aeefb2d4d",
   "metadata": {},
   "outputs": [],
   "source": [
    "eldata = caldata.groupby(['Label','Element Label'])['Concentration'].mean().unstack().T\n",
    "with pd.option_context('display.max_rows', None, 'display.max_columns', None):\n",
    "    print(eldata)"
   ]
  },
  {
   "cell_type": "code",
   "execution_count": null,
   "id": "224b9ba8-84cb-46dc-b04d-5d21748680f7",
   "metadata": {},
   "outputs": [],
   "source": [
    "elmeans = eldata[eldata.columns[-3:]].mean(axis=1)\n",
    "print(\n",
    "    '< 0.05:', (elmeans < 0.05).sum(),\n",
    "    '\\n> 0.5:', (elmeans > 0.5).sum(),\n",
    "    '\\n0.05 =< =< 0.5:', ((0.05 < elmeans) & (elmeans < 0.5)).sum(),\n",
    ")"
   ]
  },
  {
   "cell_type": "code",
   "execution_count": null,
   "id": "50dbc03e-6d65-47fb-91fd-a44d15be9d19",
   "metadata": {},
   "outputs": [],
   "source": [
    "len(elmeans)"
   ]
  }
 ],
 "metadata": {
  "kernelspec": {
   "display_name": "Python 3 (ipykernel)",
   "language": "python",
   "name": "python3"
  },
  "language_info": {
   "codemirror_mode": {
    "name": "ipython",
    "version": 3
   },
   "file_extension": ".py",
   "mimetype": "text/x-python",
   "name": "python",
   "nbconvert_exporter": "python",
   "pygments_lexer": "ipython3",
   "version": "3.10.12"
  }
 },
 "nbformat": 4,
 "nbformat_minor": 5
}
