{
 "cells": [
  {
   "cell_type": "markdown",
   "id": "c51856f8-20ac-4ff4-b0d4-3b3145562f12",
   "metadata": {},
   "source": [
    "# Meise Crop Source Investigations Tutorials\n",
    "\n",
    "Welcome to the MCSI tutorials and workshop space. In this directory you can find several notebooks with examples on how to process data in light of the European Union Deforestastion Regulation (EUDR).\n",
    "\n",
    "## Coffee bean weight distribution\n",
    "\n",
    "We will start at the beginning. How much does one coffee bean weigh, and how does this vary between different coffee varieties or species? To answer these questions with Python the very first thing to do is load the data into memory. For small datasets like these, all you need is pandas, a Python library inspired on the R `data.frame`."
   ]
  },
  {
   "cell_type": "code",
   "execution_count": null,
   "id": "de5ef2e2-b617-44f0-80fa-3bd91e0eeee2",
   "metadata": {},
   "outputs": [],
   "source": [
    "# Import the pandas package\n",
    "import pandas as pd\n",
    "# Read in the csv (comma separated values) document\n",
    "bean_sizes = pd.read_csv('data/md_coffee_beans.csv', decimal=',')\n",
    "# Display the data set\n",
    "bean_sizes "
   ]
  },
  {
   "cell_type": "code",
   "execution_count": null,
   "id": "74bc0f1e-6cf7-4ac1-911c-c5d846cc8c22",
   "metadata": {},
   "outputs": [],
   "source": [
    "# Read in the csv with sample information\n",
    "samples = pd.read_csv('data/coffee_samples.csv', decimal=',', index_col=0)\n",
    "# Display the data set\n",
    "samples"
   ]
  },
  {
   "cell_type": "code",
   "execution_count": null,
   "id": "c368b0ea-b3b7-4a48-8a90-e5f5750ebcf7",
   "metadata": {},
   "outputs": [],
   "source": [
    "import seaborn as sns\n",
    "ax = sns.histplot(bean_sizes[\"Caffeinated\"])\n",
    "sns.kdeplot(bean_sizes[\"Caffeinated\"], ax=ax)"
   ]
  },
  {
   "cell_type": "code",
   "execution_count": null,
   "id": "c0ca0508-3368-44ce-b5b5-d23cabd46e9f",
   "metadata": {},
   "outputs": [],
   "source": [
    "import pingouin as pg\n",
    "pg.ttest(bean_sizes[\"Swiss water\"], bean_sizes[\"Caffeinated\"])"
   ]
  },
  {
   "cell_type": "code",
   "execution_count": null,
   "id": "f5bf9d56-b3ca-4c95-bcc9-7eab01ace418",
   "metadata": {},
   "outputs": [],
   "source": [
    "# Stack dataframe for group comparisons\n",
    "bean_sizes_stacked = bean_sizes.stack().reset_index().drop('level_0', axis=1).rename(\n",
    "    {'level_1':'name',0:'weight'},axis=1\n",
    ").join(samples, on='name')\n",
    "bean_sizes_stacked"
   ]
  },
  {
   "cell_type": "code",
   "execution_count": null,
   "id": "d618bc71-ae47-43f1-acdf-853a2096cbfd",
   "metadata": {},
   "outputs": [],
   "source": [
    "bean_sizes_grouped = bean_sizes_stacked.groupby('Decaffeination')\n",
    "bean_sizes_grouped.boxplot()"
   ]
  },
  {
   "cell_type": "code",
   "execution_count": null,
   "id": "6e7cde64-b85e-436a-a1d1-d4ce800817b8",
   "metadata": {},
   "outputs": [],
   "source": []
  },
  {
   "cell_type": "code",
   "execution_count": null,
   "id": "556fc739-92f0-4542-872f-2ab8a4940e3c",
   "metadata": {},
   "outputs": [],
   "source": [
    "sns.kdeplot(bean_sizes_stacked, x='weight', hue='Roasted')"
   ]
  },
  {
   "cell_type": "code",
   "execution_count": null,
   "id": "4cb4c132-5b05-44f3-a247-7f640ede728e",
   "metadata": {},
   "outputs": [],
   "source": [
    "pg.anova(data=bean_sizes_stacked,dv='weight',between='Region', detailed=True)"
   ]
  },
  {
   "cell_type": "code",
   "execution_count": null,
   "id": "1978d17a-c343-4ea1-9a17-ec805dac5e79",
   "metadata": {},
   "outputs": [],
   "source": [
    "print(pg.normality(bean_sizes[\"Caffinated\"])) "
   ]
  },
  {
   "cell_type": "code",
   "execution_count": null,
   "id": "ac74eab5-0ffa-49b9-8352-6c90b7bfd834",
   "metadata": {},
   "outputs": [],
   "source": [
    "bean_sizes.stack().reset_index()"
   ]
  },
  {
   "cell_type": "code",
   "execution_count": null,
   "id": "6d8e17aa-d144-46d9-8ee7-0a61e70e9d24",
   "metadata": {},
   "outputs": [],
   "source": [
    "pg.anova?"
   ]
  },
  {
   "cell_type": "code",
   "execution_count": null,
   "id": "496cdbc2-75ef-4b71-bf45-e82547861029",
   "metadata": {},
   "outputs": [],
   "source": []
  }
 ],
 "metadata": {
  "kernelspec": {
   "display_name": "Python 3 (ipykernel)",
   "language": "python",
   "name": "python3"
  },
  "language_info": {
   "codemirror_mode": {
    "name": "ipython",
    "version": 3
   },
   "file_extension": ".py",
   "mimetype": "text/x-python",
   "name": "python",
   "nbconvert_exporter": "python",
   "pygments_lexer": "ipython3",
   "version": "3.10.12"
  }
 },
 "nbformat": 4,
 "nbformat_minor": 5
}
