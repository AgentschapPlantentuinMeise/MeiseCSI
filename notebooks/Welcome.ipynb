{
 "cells": [
  {
   "cell_type": "markdown",
   "id": "c51856f8-20ac-4ff4-b0d4-3b3145562f12",
   "metadata": {},
   "source": [
    "# Meise Crop Source Investigations Tutorials\n",
    "\n",
    "Welcome to the MCSI tutorials and workshop space. In this directory you can find several notebooks with examples on how to process data in light of the European Union Deforestastion Regulation (EUDR)."
   ]
  },
  {
   "cell_type": "code",
   "execution_count": null,
   "id": "de5ef2e2-b617-44f0-80fa-3bd91e0eeee2",
   "metadata": {},
   "outputs": [],
   "source": []
  }
 ],
 "metadata": {
  "kernelspec": {
   "display_name": "Python 3 (ipykernel)",
   "language": "python",
   "name": "python3"
  },
  "language_info": {
   "codemirror_mode": {
    "name": "ipython",
    "version": 3
   },
   "file_extension": ".py",
   "mimetype": "text/x-python",
   "name": "python",
   "nbconvert_exporter": "python",
   "pygments_lexer": "ipython3",
   "version": "3.10.12"
  }
 },
 "nbformat": 4,
 "nbformat_minor": 5
}
